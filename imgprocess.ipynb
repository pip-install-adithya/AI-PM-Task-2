{
 "cells": [
  {
   "cell_type": "markdown",
   "id": "d6d9367e",
   "metadata": {},
   "source": [
    "# For First Image\n",
    "I included all the things I experimented with also so its a bit lengthy"
   ]
  },
  {
   "cell_type": "markdown",
   "id": "c4512f67",
   "metadata": {},
   "source": [
    "First I am trying to make the text in the first imamge readable for tesseract using some filters like sharpening edge detection and stuff."
   ]
  },
  {
   "cell_type": "code",
   "execution_count": 33,
   "id": "7204ccf1",
   "metadata": {},
   "outputs": [
    {
     "data": {
      "text/plain": [
       "array([[197, 192, 198, ..., 198, 198, 198],\n",
       "       [192, 198, 198, ..., 198, 198, 198],\n",
       "       [198, 198, 198, ..., 198, 198, 198],\n",
       "       ...,\n",
       "       [198, 198, 198, ..., 198, 198, 198],\n",
       "       [198, 198, 198, ..., 198, 198, 198],\n",
       "       [198, 198, 198, ..., 198, 198, 198]], dtype=uint8)"
      ]
     },
     "execution_count": 33,
     "metadata": {},
     "output_type": "execute_result"
    }
   ],
   "source": [
    "from PIL import Image #standard way to import picture types in python\n",
    "import numpy as np\n",
    "\n",
    "img1 = Image.open(\"./freshpics/download.png\").convert(\"L\")\n",
    "pix1 = np.array(img1)\n",
    "pix1"
   ]
  },
  {
   "cell_type": "markdown",
   "id": "8ae8dc9e",
   "metadata": {},
   "source": [
    "I thought of trying to upscale the image and apply some filters using kernel."
   ]
  },
  {
   "cell_type": "code",
   "execution_count": 34,
   "id": "87db2a58",
   "metadata": {},
   "outputs": [
    {
     "name": "stdout",
     "output_type": "stream",
     "text": [
      "[[199 199 198 ... 198 198 198]\n",
      " [199 199 198 ... 198 198 198]\n",
      " [199 199 198 ... 198 198 198]\n",
      " ...\n",
      " [198 198 198 ... 198 198 198]\n",
      " [198 198 198 ... 198 198 198]\n",
      " [198 198 198 ... 198 198 198]]\n"
     ]
    }
   ],
   "source": [
    "upimg1 = img1.resize((img1.width * 10, img1.height * 10))\n",
    "uppix1 = np.array(upimg1)\n",
    "print(uppix1)\n",
    "\n",
    "result = Image.fromarray(uppix1)\n",
    "result.save(\"./processed/uppix.png\")"
   ]
  },
  {
   "cell_type": "code",
   "execution_count": 35,
   "id": "5bcd602c",
   "metadata": {},
   "outputs": [],
   "source": [
    "def padder(uppix1):\n",
    "    padded1 = np.zeros((uppix1.shape[0]+2,uppix1.shape[1]+2))\n",
    "    for i in range(uppix1.shape[0]):\n",
    "        for j in range(uppix1.shape[1]):\n",
    "            padded1[i+1][j+1]=uppix1[i][j]\n",
    "\n",
    "    return padded1\n",
    "\n",
    "padded1 = padder(uppix1)"
   ]
  },
  {
   "cell_type": "code",
   "execution_count": 36,
   "id": "3a39d779",
   "metadata": {},
   "outputs": [
    {
     "name": "stdout",
     "output_type": "stream",
     "text": [
      "[[255 255 255 ... 255 255 255]\n",
      " [255 200 197 ... 198 198 255]\n",
      " [255 201 199 ... 198 198 255]\n",
      " ...\n",
      " [255 198 198 ... 198 198 255]\n",
      " [255 198 198 ... 198 198 255]\n",
      " [255 255 255 ... 255 255 255]]\n"
     ]
    }
   ],
   "source": [
    "# trying various sharpening kernels\n",
    "\n",
    "kernel1 = np.array([[-1,0,-1],\n",
    "                 [0,5,0],\n",
    "                 [-1,0,-1]])\n",
    "\n",
    "kernel2 = np.array([[0,-1,0],\n",
    "                    [-1,5,-1],\n",
    "                    [0,-1,0]])\n",
    "\n",
    "kernel3 = np.array([[-1,-1,-1],\n",
    "                    [-1,9,-1],\n",
    "                    [-1,-1,-1]])\n",
    "\n",
    "kernel4 = np.array([[0,0,0],[0,2,0],[0,0,0]]) - (1/9) * np.ones((3,3))\n",
    "\n",
    "kernel5 = np.array([\n",
    "    [ 1,  4,  6,  4, 1],\n",
    "    [ 4, 16, 24,16, 4],\n",
    "    [ 6, 24,-300,24, 6],\n",
    "    [ 4, 16, 24,16, 4],\n",
    "    [ 1,  4,  6,  4, 1]\n",
    "]) / -256\n",
    "\n",
    "kernel = kernel2\n",
    "\n",
    "sharpened1 = np.zeros_like(uppix1)\n",
    "\n",
    "for i in range(0,padded1.shape[0]-kernel.shape[0]+1):\n",
    "    for j in range(0,padded1.shape[1]-kernel.shape[1]+1):\n",
    "        new_val = np.sum(padded1[i:i+kernel.shape[0],j:j+kernel.shape[1]] * kernel)\n",
    "        #print(new_val)\n",
    "        sharpened1[i,j] = np.clip(new_val,0,255)\n",
    "\n",
    "print(sharpened1)\n",
    "\n"
   ]
  },
  {
   "cell_type": "code",
   "execution_count": 37,
   "id": "af346bfa",
   "metadata": {},
   "outputs": [],
   "source": [
    "result = Image.fromarray(sharpened1)\n",
    "result.save(\"./processed/Mytry.png\")"
   ]
  },
  {
   "cell_type": "code",
   "execution_count": 38,
   "id": "0f732d8b",
   "metadata": {},
   "outputs": [],
   "source": [
    "trial1 = sharpened1.copy()\n",
    "\n",
    "for i in range(trial1.shape[0]):\n",
    "    for j in range(trial1.shape[1]):\n",
    "        if trial1[i,j]<128:\n",
    "            trial1[i,j] = 0\n",
    "        else:\n",
    "            trial1[i,j] = 255\n",
    "\n",
    "result = Image.fromarray(trial1)\n",
    "result.save(\"./processed/0_or_255.png\")"
   ]
  },
  {
   "cell_type": "code",
   "execution_count": 39,
   "id": "6b57e6ac",
   "metadata": {},
   "outputs": [
    {
     "name": "stdout",
     "output_type": "stream",
     "text": [
      "[[255 255 255 ... 255 255 255]\n",
      " [255 169 176 ... 179 166 255]\n",
      " [255 184 200 ... 198 179 255]\n",
      " ...\n",
      " [255 179 198 ... 198 179 255]\n",
      " [255 166 178 ... 178 166 255]\n",
      " [255 255 255 ... 255 255 255]]\n"
     ]
    }
   ],
   "source": [
    "padded2 = padder(sharpened1)\n",
    "sharpened2 = np.zeros_like(uppix1)\n",
    "\n",
    "kernel2 = np.array([[0,-1,0],\n",
    "                    [-1,5,-1],\n",
    "                    [0,-1,0]])\n",
    "\n",
    "kernel = kernel4\n",
    "\n",
    "for i in range(0,padded2.shape[0]-kernel.shape[0]+1):\n",
    "    for j in range(0,padded2.shape[1]-kernel.shape[1]+1):\n",
    "        new_val = np.sum(padded2[i:i+kernel.shape[0],j:j+kernel.shape[1]] * kernel)\n",
    "        #print(new_val)\n",
    "        sharpened2[i,j] = np.clip(new_val,0,255)\n",
    "\n",
    "print(sharpened2)"
   ]
  },
  {
   "cell_type": "code",
   "execution_count": 40,
   "id": "93ed1be7",
   "metadata": {},
   "outputs": [],
   "source": [
    "result2 = Image.fromarray(sharpened2)\n",
    "result2.save(\"./processed/Mytry2.png\")"
   ]
  },
  {
   "cell_type": "code",
   "execution_count": 41,
   "id": "66887ad9",
   "metadata": {},
   "outputs": [],
   "source": [
    "import pytesseract\n",
    "\n",
    "def ocr_psm6(filepath):\n",
    "    config = '--psm 6'\n",
    "    img = Image.open(filepath)\n",
    "    text = pytesseract.image_to_string(img, config=config)\n",
    "    text = text.strip()\n",
    "    print(text)\n",
    "    return text"
   ]
  },
  {
   "cell_type": "code",
   "execution_count": 42,
   "id": "eb761129",
   "metadata": {},
   "outputs": [
    {
     "name": "stdout",
     "output_type": "stream",
     "text": [
      "Formal Letter Format\n",
      "(Yor Mare]\n",
      "(Your Acarecs]}\n",
      "(Om Ste, Pty Code)\n",
      "(Data)\n",
      "(Recpeetts Marse'lee-gutoy\n",
      "(Recess Opercatoy\n",
      "[(Necest’s Astens!\n",
      "(Om Bae. PR Code\n",
      "Samy Feet ane Specie Sayer of Pe Leper]\n",
      "Cee Plecperfs Nerve’ Tés, ©.5. Me iV¥a.0- Len Nerve.\n",
      "(Dp we Paragent: Sant ets 2 resCerd Greeting 207 Here Po Opole\n",
      "of fe better concimely Mor exarapie, \"I art artes fo reqectt .\"]\n",
      "[tay Meee yeaa st Cktceite oF Pet reitiet perveting pelesiery cee.\n",
      "Craves cawty polterwas, a0d ocheasicralet. For costoe eopiain fhe rast\n",
      "Pot poet Pee. Or heed CO tel OF Ghr'e FORE OTRO 06 ere)\n",
      "[Oowrg Mwegwe* Coscude by sure teng poor pequed. thartirg Po\n",
      "og of reeréows rec eepe Ero on a poits now. 4g, “) inca oreows to\n",
      "you\" Seve reigeorie. 7\n",
      "YOees er tp Wet ey,\n",
      "(Your Ful Narva)\n",
      "(Yow Coy itor, ¢ apace te)\n",
      "(Yor Coeect ivorastict f required) © Shire core fd fights eee\n"
     ]
    }
   ],
   "source": [
    "with open('./ocr_text/img1.txt','w') as file:\n",
    "    file.write(ocr_psm6('./processed/Mytry2.png'))\n",
    "    "
   ]
  },
  {
   "cell_type": "code",
   "execution_count": 43,
   "id": "d1f0c802",
   "metadata": {},
   "outputs": [
    {
     "name": "stdout",
     "output_type": "stream",
     "text": [
      "Formal Letter Format\n",
      "(Yor Mere]\n",
      "(Yor Acarecs]\n",
      "(Om Se, Pty Code)\n",
      "(Data)\n",
      "(Recpeetts Marce'eegutoy\n",
      "(Recess Ogercstot\n",
      "(Mecpett’s Astens/\n",
      "(Om Bae. PR Code\n",
      "Saye at are Seok Bowe of Fe Lees]\n",
      "Cee Plecperfs Nerve’ Tés, «5. Mr i¥s.O- Len Nerve.\n",
      "(Oper wg Parngee: Ett wth 2 resceutd ering a0) Werke Po rps\n",
      "of fe better concmely For exargpie, “I art arting to reqeast .\"]\n",
      "[tay Peep eotest Chtceite oF Pet reitiet ferveting pecesiery cote.\n",
      "Ceaes Gaty polterwas a0d pcheascoralet For eostoe copia fe remot\n",
      "Pot poet Pee. Or ee CO tel OF hie POE OTE OF 06 en) )\n",
      "[Ooms Mwepwr® Coociuce ty sucrewteng pcr rogue. (hortirg Peo\n",
      "raogewrt of reertowes red eepe Ero on a poites pow 4g, “nce oreo to\n",
      "you SN tve reper]\n",
      "Trading yee,\n",
      "Ours bere ety.\n",
      "(Your Ful Nerve)\n",
      "(Yow Cosy hor, ¢ aoeoee)\n",
      "(Yor Coeect ltorastor f regured) © Shire core fd tgs weeved\n"
     ]
    }
   ],
   "source": [
    "with open('./ocr_text/img1_best.txt','w') as file:\n",
    "    file.write(ocr_psm6('./processed/uppix.png'))"
   ]
  },
  {
   "cell_type": "markdown",
   "id": "674828d1",
   "metadata": {},
   "source": [
    "# For Second Picture\n",
    "Please forgive the bad modularity in the functionss"
   ]
  },
  {
   "cell_type": "code",
   "execution_count": 44,
   "id": "ebb04606",
   "metadata": {},
   "outputs": [
    {
     "name": "stdout",
     "output_type": "stream",
     "text": [
      "FORM 33\n",
      "[See Rule 59]\n",
      "\n",
      "INTIMATION OF CHANGE OF ADDRESS FOR RECORDING IN THE CERTIFICATE OF\n",
      "REGISTRATION AND OFFICE RECORDS\n",
      "(To be made in triplicate if the vehicle is held under agreement of hire-purchase / lease / hypothecation, the\n",
      "duplicate copy and the triplicate copies with the endorsement of the Registering Authority to be returned to the|\n",
      "Financier and the Registering Authority (from whose jurisdiction the vehicle is removed) simultaneously, on making.\n",
      "the entry of change of address in the certificate of Registration and Form 24)\n",
      "\n",
      "To\n",
      "\n",
      "‘The Registering Authority,\n",
      "Gurugram, Haryana |\n",
      "\n",
      "Son/Wife/Daughter of....Ral Kumar 2 2\n",
      "(full address) No. -.094K. Sector 901...\n",
      "\n",
      "Registered Owner of motor vehicle No... so seseeeecesnneeeeeeeens eae\n",
      "ceased to reside, do not have the place of business at the address recorded in the certificate of registration\n",
      "with effect from............29703-2020._.................. The present address is given below (evidence to\n",
      "be enclosed).\n",
      "\n",
      "H.No, - 738, Sector 109K\n",
      "\n",
      "\"The vehicle is not held under any agreement of hire-purchase /lease /hypothecation.\n",
      "\n",
      "\"The vehicle is held under an agreement of hire-purchase / lease / hypothecation with\n",
      "\n",
      "(Name and Full address of the Financier)\n",
      "\n",
      "The certificate of registration is enclosed. /We request that the change of address may be\n",
      "\n",
      "recorded in the certificate of Registration and Form 24,\n",
      "\n",
      "Date...15: 20. Signature or thumb impression of the\n",
      "Registered Owner of the vehicle\n",
      "\n",
      "*Strike out whichever is inapplicable\n"
     ]
    }
   ],
   "source": [
    "def ocr_psm1oem3(filepath):\n",
    "    config = '--oem 3 --psm 1'\n",
    "    img2 = Image.open(filepath)\n",
    "    text = pytesseract.image_to_string(img2,config=config)\n",
    "    text = text.strip()\n",
    "    print(text)\n",
    "    return text\n",
    "\n",
    "with open('./ocr_text/img2.txt','w') as file:\n",
    "    text = ocr_psm1oem3('./freshpics/form33.jpg')\n",
    "    file.write(text)"
   ]
  },
  {
   "cell_type": "markdown",
   "id": "8790b4ef",
   "metadata": {},
   "source": [
    "# For Third Picture"
   ]
  },
  {
   "cell_type": "code",
   "execution_count": 45,
   "id": "23e0446f",
   "metadata": {},
   "outputs": [
    {
     "name": "stdout",
     "output_type": "stream",
     "text": [
      "1 First Section\n",
      "\n",
      "Multicols Demo\n",
      "\n",
      "Overleaf\n",
      "\n",
      "April 2021\n",
      "\n",
      "All human things are subject to decay. And when fate summons, Monarchs\n",
      "\n",
      "must obey.\n",
      "\n",
      "Lorem ipsum dolor\n",
      "sit amet, consectetuer\n",
      "Etiam\n",
      "\n",
      "lisis sem.\n",
      "\n",
      "Nullam nec mi et neque\n",
      "pharetra sollicitudin.\n",
      "Praesent imperdiect mi\n",
      "nec ante. Donec ullam-\n",
      "corper, felis non sodales\n",
      "commodo, lectus velit\n",
      "ultrices augue, a dignis-\n",
      "sim nibh lectus placerat.\n",
      "\n",
      "pede. Vivamus nunc\n",
      "nunc, molestie ut, ul-\n",
      "tricies vel, semper in,\n",
      "\n",
      "velit. Ut porttitor. Prae-\n",
      "sent in sapien. Lorem\n",
      "ipsum dolor sit amet,\n",
      "consectetuer — adipiscing\n",
      "¢ Duis fringilla tris-\n",
      "tique neque. Sed inter-\n",
      "dum libero ut metus.\n",
      "Pellentesque placerat.\n",
      "\n",
      "Nam rutrum augue a\n",
      "leo. Morbi sed elit. sit\n",
      "amet ante lobortis sollic-\n",
      "itudin. Praesent blandit\n",
      "blandit, mauris. Praesent\n",
      "lectus tellus, aliquet ali-\n",
      "quam, luctus a, egestas\n",
      "a, turpis. Mauris lacinia\n",
      "lorem sit amet ipsum.\n",
      "Nune quis urna dictum\n",
      "turpis accumsan semper\n",
      "Lorem ipsum dolor. sit\n",
      "amet, consectetuer adip-\n",
      "\n",
      "iscing elit. Etiam lobor-\n",
      "tis facilisis sem. Nullam\n",
      "\n",
      "nec mi et neque phare-\n",
      "tra sollicitudin. Praesent\n",
      "imperdiet mi nec ante.\n",
      "Donee ullamcorper, felis\n",
      "non sodales commodo,\n",
      "lectus velit, ultrices au-\n",
      "gue, a dignissim nibh\n",
      "lectus placerat pede. Vi-\n",
      "\n",
      "vamus nunc nunc, mo-\n",
      "ut, ultricies vel,\n",
      "mper in, velit. Ut port-\n",
      "titor. Praesent in sapien.\n",
      "Lorem ipsum dolor sit\n",
      "amet, consectetuer adip-\n",
      "iscing elit. Duis fringilla\n",
      "tristique neque. Sed in-\n",
      "terdum libero ut metus.\n",
      "-ellentesque placerat.\n",
      "Nam rutrum augue a\n",
      "leo. Morbi sed elit\n",
      "amet ante lobortis sollic\n",
      "itudin. Praesent blandit\n",
      "olandit, mauris. Praesent\n",
      "\n",
      "lestie\n",
      "\n",
      "lectus tellus, aliquet ali-\n",
      "quam, luctus a, egestas\n",
      "a, turpis. Mauris lacinia\n",
      "lorem sit amet ipsum.\n",
      "Nune quis urna dictum\n",
      "turpis accumsan semper.\n"
     ]
    }
   ],
   "source": [
    "def ocr_psm3oem3(filepath):\n",
    "    config = '--oem 3 --psm 3' #psm 3 automatically detects the page layout good in this case cos of the col segments\n",
    "    img3 = Image.open(filepath)\n",
    "    text = pytesseract.image_to_string(img3,config=config)\n",
    "    text = text.strip()\n",
    "    print(text)\n",
    "    return text\n",
    "\n",
    "with open('./ocr_text/img3.txt','w') as file:\n",
    "    text = ocr_psm3oem3('./freshpics/MultiCol1OL.png')\n",
    "    file.write(text)"
   ]
  }
 ],
 "metadata": {
  "kernelspec": {
   "display_name": "Python 3",
   "language": "python",
   "name": "python3"
  },
  "language_info": {
   "codemirror_mode": {
    "name": "ipython",
    "version": 3
   },
   "file_extension": ".py",
   "mimetype": "text/x-python",
   "name": "python",
   "nbconvert_exporter": "python",
   "pygments_lexer": "ipython3",
   "version": "3.12.6"
  }
 },
 "nbformat": 4,
 "nbformat_minor": 5
}
