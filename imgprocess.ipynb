{
 "cells": [
  {
   "cell_type": "code",
   "execution_count": 11,
   "id": "7204ccf1",
   "metadata": {},
   "outputs": [
    {
     "data": {
      "text/plain": [
       "array([[48,  4,  2, ...,  2,  2,  2],\n",
       "       [ 4,  2,  2, ...,  2,  2,  2],\n",
       "       [ 2,  2,  2, ...,  2,  2,  2],\n",
       "       ...,\n",
       "       [ 2,  2,  2, ...,  2,  2,  2],\n",
       "       [ 2,  2,  2, ...,  2,  2,  2],\n",
       "       [ 2,  2,  2, ...,  2,  2,  2]], dtype=uint8)"
      ]
     },
     "execution_count": 11,
     "metadata": {},
     "output_type": "execute_result"
    }
   ],
   "source": [
    "from PIL import Image #standard way to import picture types in python\n",
    "import numpy as np\n",
    "\n",
    "img1 = Image.open(\"download.png\")\n",
    "pix1 = np.array(img1)\n",
    "pix1"
   ]
  },
  {
   "cell_type": "code",
   "execution_count": null,
   "id": "bf1914ce",
   "metadata": {},
   "outputs": [],
   "source": []
  }
 ],
 "metadata": {
  "kernelspec": {
   "display_name": "Python 3",
   "language": "python",
   "name": "python3"
  },
  "language_info": {
   "codemirror_mode": {
    "name": "ipython",
    "version": 3
   },
   "file_extension": ".py",
   "mimetype": "text/x-python",
   "name": "python",
   "nbconvert_exporter": "python",
   "pygments_lexer": "ipython3",
   "version": "3.12.6"
  }
 },
 "nbformat": 4,
 "nbformat_minor": 5
}
